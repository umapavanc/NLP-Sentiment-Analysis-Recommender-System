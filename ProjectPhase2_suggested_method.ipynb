{
 "cells": [
  {
   "cell_type": "code",
   "execution_count": null,
   "metadata": {},
   "outputs": [],
   "source": [
    "import pandas as pd\n",
    "import numpy as np\n",
    "import gzip\n",
    "import json\n",
    "import re\n",
    "import string\n",
    "import nltk\n",
    "import random\n",
    "import matplotlib.pyplot as plt\n",
    "import seaborn as sns\n",
    "import warnings\n",
    "import re\n",
    "warnings.filterwarnings(\"ignore\") #, category=DeprecationWarning\n",
    "from sklearn.feature_extraction.text import TfidfVectorizer\n",
    "from sklearn.naive_bayes import MultinomialNB\n",
    "\n",
    "pd.set_option('display.max_colwidth', 500)"
   ]
  },
  {
   "cell_type": "code",
   "execution_count": null,
   "metadata": {},
   "outputs": [
    {
     "name": "stdout",
     "output_type": "stream",
     "text": [
      "Mounted at /content/drive\n"
     ]
    }
   ],
   "source": [
    "from google.colab import drive\n",
    "drive.mount('/content/drive')"
   ]
  },
  {
   "cell_type": "code",
   "execution_count": null,
   "metadata": {},
   "outputs": [
    {
     "data": {
      "text/plain": [
       "Index(['overall', 'verified', 'reviewTime', 'reviewerID', 'asin', 'style',\n",
       "       'reviewerName', 'reviewText', 'summary', 'unixReviewTime', 'vote',\n",
       "       'image'],\n",
       "      dtype='object')"
      ]
     },
     "metadata": {},
     "output_type": "display_data"
    }
   ],
   "source": [
    "# Load Office Product Amazon Reviews as pandasDF\n",
    "def parse(path):\n",
    "    g = gzip.open(path, \"rb\")\n",
    "    for l in g:\n",
    "        yield json.loads(l)\n",
    "\n",
    "def getDF(path):\n",
    "    i = 0\n",
    "    df = {}\n",
    "    for d in parse(path):\n",
    "        df[i] = d\n",
    "        i += 1\n",
    "    return pd.DataFrame.from_dict(df, orient=\"index\")\n",
    "# For colab\n",
    "data_path = \"/content/drive/MyDrive/centennial/nlp/Office_Products_5.json.gz\" #Change1: \"../Office_Products_5.json.gz\"\n",
    "data = getDF(data_path)\n",
    "\n",
    "data.columns"
   ]
  },
  {
   "cell_type": "code",
   "execution_count": null,
   "metadata": {},
   "outputs": [
    {
     "name": "stdout",
     "output_type": "stream",
     "text": [
      "before 5.0    184\n",
      "4.0     25\n",
      "3.0      2\n",
      "2.0      2\n",
      "Name: overall, dtype: int64\n"
     ]
    },
    {
     "data": {
      "text/plain": [
       "5.0    570809\n",
       "4.0    122864\n",
       "3.0     50700\n",
       "1.0     31697\n",
       "2.0     24074\n",
       "Name: overall, dtype: int64"
      ]
     },
     "metadata": {},
     "output_type": "display_data"
    }
   ],
   "source": [
    "# Considered only required columns for further analysis\n",
    "df = data[[\"reviewerID\",\"asin\",\"overall\",\"reviewText\",\"summary\"]]\n",
    "\n",
    "print(\"before\", df[df[\"reviewText\"].isnull()].overall.value_counts())\n",
    "\n",
    "# Initial trail deleting the rows with null values\n",
    "df.dropna(subset=['reviewText'], inplace=True)\n",
    "\n",
    "df[\"overall\"].value_counts()"
   ]
  },
  {
   "cell_type": "code",
   "execution_count": null,
   "metadata": {},
   "outputs": [
    {
     "data": {
      "text/html": [
       "\n",
       "  <div id=\"df-dbaa167e-eace-4b67-8fd7-11749f1e9261\">\n",
       "    <div class=\"colab-df-container\">\n",
       "      <div>\n",
       "<style scoped>\n",
       "    .dataframe tbody tr th:only-of-type {\n",
       "        vertical-align: middle;\n",
       "    }\n",
       "\n",
       "    .dataframe tbody tr th {\n",
       "        vertical-align: top;\n",
       "    }\n",
       "\n",
       "    .dataframe thead th {\n",
       "        text-align: right;\n",
       "    }\n",
       "</style>\n",
       "<table border=\"1\" class=\"dataframe\">\n",
       "  <thead>\n",
       "    <tr style=\"text-align: right;\">\n",
       "      <th></th>\n",
       "      <th>reviewerID</th>\n",
       "      <th>asin</th>\n",
       "      <th>overall</th>\n",
       "      <th>reviewText</th>\n",
       "      <th>summary</th>\n",
       "      <th>sentiment</th>\n",
       "    </tr>\n",
       "  </thead>\n",
       "  <tbody>\n",
       "    <tr>\n",
       "      <th>0</th>\n",
       "      <td>A2NIJTYWADLK57</td>\n",
       "      <td>0140503528</td>\n",
       "      <td>4.0</td>\n",
       "      <td>kids like story BUT while i really wanted a board book this one is just so small.  wish larger</td>\n",
       "      <td>good story, small size book though</td>\n",
       "      <td>positive</td>\n",
       "    </tr>\n",
       "    <tr>\n",
       "      <th>1</th>\n",
       "      <td>A2827D8EEURMP4</td>\n",
       "      <td>0140503528</td>\n",
       "      <td>4.0</td>\n",
       "      <td>Bought this used and it came in great condition, almost like it had never been read. The story isn't as good as the original corduroy but my husband had this version as a child so had to add it to our daughter collection</td>\n",
       "      <td>Good</td>\n",
       "      <td>positive</td>\n",
       "    </tr>\n",
       "    <tr>\n",
       "      <th>2</th>\n",
       "      <td>APB6087F4J09J</td>\n",
       "      <td>0140503528</td>\n",
       "      <td>5.0</td>\n",
       "      <td>Every story and book about Corduroy is Fantastic. This book is great and I bought all the Corduroy books for my 2 boys and now for their total of 5 children. You have to buy a Corduroy bear for everyone who has the books. Love to hold them while the stories are read.</td>\n",
       "      <td>Best Books for All Children</td>\n",
       "      <td>positive</td>\n",
       "    </tr>\n",
       "    <tr>\n",
       "      <th>3</th>\n",
       "      <td>A2DHERRZIPFU7X</td>\n",
       "      <td>0140503528</td>\n",
       "      <td>5.0</td>\n",
       "      <td>I purchased this book for my first grade classroom. I read the book to the students during a math lesson. The first day, I split the students into groups and had them count how many pockets they had all together. They recorded it on a chart and answered questions like: Who had the most? Who had the least? Choose two numbers and compare using &lt;,&gt;,=. The second day we referenced the book and compared pockets of the boys vs the girls. They again answered questions about the numbers. They loved ...</td>\n",
       "      <td>Great for Math!</td>\n",
       "      <td>positive</td>\n",
       "    </tr>\n",
       "    <tr>\n",
       "      <th>4</th>\n",
       "      <td>A2XCLJRGFANRC</td>\n",
       "      <td>0140503528</td>\n",
       "      <td>5.0</td>\n",
       "      <td>Having spent numerous years in an elementary school library, I can say with all honesty that the Corduroy books were great favorites for all the years I was there. A Pocket for Corduroy is a charming addition to anyone's collection. It is a very sweet story about the owner of Corduroy who leaves him in the laundry and has some difficulties retrieving him. Children can relate to that quite well. Getting him back is a good lesson in itself. Sewing the pocket on for him is delightful. It has a ...</td>\n",
       "      <td>Love Corduroy</td>\n",
       "      <td>positive</td>\n",
       "    </tr>\n",
       "  </tbody>\n",
       "</table>\n",
       "</div>\n",
       "      <button class=\"colab-df-convert\" onclick=\"convertToInteractive('df-dbaa167e-eace-4b67-8fd7-11749f1e9261')\"\n",
       "              title=\"Convert this dataframe to an interactive table.\"\n",
       "              style=\"display:none;\">\n",
       "        \n",
       "  <svg xmlns=\"http://www.w3.org/2000/svg\" height=\"24px\"viewBox=\"0 0 24 24\"\n",
       "       width=\"24px\">\n",
       "    <path d=\"M0 0h24v24H0V0z\" fill=\"none\"/>\n",
       "    <path d=\"M18.56 5.44l.94 2.06.94-2.06 2.06-.94-2.06-.94-.94-2.06-.94 2.06-2.06.94zm-11 1L8.5 8.5l.94-2.06 2.06-.94-2.06-.94L8.5 2.5l-.94 2.06-2.06.94zm10 10l.94 2.06.94-2.06 2.06-.94-2.06-.94-.94-2.06-.94 2.06-2.06.94z\"/><path d=\"M17.41 7.96l-1.37-1.37c-.4-.4-.92-.59-1.43-.59-.52 0-1.04.2-1.43.59L10.3 9.45l-7.72 7.72c-.78.78-.78 2.05 0 2.83L4 21.41c.39.39.9.59 1.41.59.51 0 1.02-.2 1.41-.59l7.78-7.78 2.81-2.81c.8-.78.8-2.07 0-2.86zM5.41 20L4 18.59l7.72-7.72 1.47 1.35L5.41 20z\"/>\n",
       "  </svg>\n",
       "      </button>\n",
       "      \n",
       "  <style>\n",
       "    .colab-df-container {\n",
       "      display:flex;\n",
       "      flex-wrap:wrap;\n",
       "      gap: 12px;\n",
       "    }\n",
       "\n",
       "    .colab-df-convert {\n",
       "      background-color: #E8F0FE;\n",
       "      border: none;\n",
       "      border-radius: 50%;\n",
       "      cursor: pointer;\n",
       "      display: none;\n",
       "      fill: #1967D2;\n",
       "      height: 32px;\n",
       "      padding: 0 0 0 0;\n",
       "      width: 32px;\n",
       "    }\n",
       "\n",
       "    .colab-df-convert:hover {\n",
       "      background-color: #E2EBFA;\n",
       "      box-shadow: 0px 1px 2px rgba(60, 64, 67, 0.3), 0px 1px 3px 1px rgba(60, 64, 67, 0.15);\n",
       "      fill: #174EA6;\n",
       "    }\n",
       "\n",
       "    [theme=dark] .colab-df-convert {\n",
       "      background-color: #3B4455;\n",
       "      fill: #D2E3FC;\n",
       "    }\n",
       "\n",
       "    [theme=dark] .colab-df-convert:hover {\n",
       "      background-color: #434B5C;\n",
       "      box-shadow: 0px 1px 3px 1px rgba(0, 0, 0, 0.15);\n",
       "      filter: drop-shadow(0px 1px 2px rgba(0, 0, 0, 0.3));\n",
       "      fill: #FFFFFF;\n",
       "    }\n",
       "  </style>\n",
       "\n",
       "      <script>\n",
       "        const buttonEl =\n",
       "          document.querySelector('#df-dbaa167e-eace-4b67-8fd7-11749f1e9261 button.colab-df-convert');\n",
       "        buttonEl.style.display =\n",
       "          google.colab.kernel.accessAllowed ? 'block' : 'none';\n",
       "\n",
       "        async function convertToInteractive(key) {\n",
       "          const element = document.querySelector('#df-dbaa167e-eace-4b67-8fd7-11749f1e9261');\n",
       "          const dataTable =\n",
       "            await google.colab.kernel.invokeFunction('convertToInteractive',\n",
       "                                                     [key], {});\n",
       "          if (!dataTable) return;\n",
       "\n",
       "          const docLinkHtml = 'Like what you see? Visit the ' +\n",
       "            '<a target=\"_blank\" href=https://colab.research.google.com/notebooks/data_table.ipynb>data table notebook</a>'\n",
       "            + ' to learn more about interactive tables.';\n",
       "          element.innerHTML = '';\n",
       "          dataTable['output_type'] = 'display_data';\n",
       "          await google.colab.output.renderOutput(dataTable, element);\n",
       "          const docLink = document.createElement('div');\n",
       "          docLink.innerHTML = docLinkHtml;\n",
       "          element.appendChild(docLink);\n",
       "        }\n",
       "      </script>\n",
       "    </div>\n",
       "  </div>\n",
       "  "
      ],
      "text/plain": [
       "       reviewerID        asin  overall  \\\n",
       "0  A2NIJTYWADLK57  0140503528      4.0   \n",
       "1  A2827D8EEURMP4  0140503528      4.0   \n",
       "2   APB6087F4J09J  0140503528      5.0   \n",
       "3  A2DHERRZIPFU7X  0140503528      5.0   \n",
       "4   A2XCLJRGFANRC  0140503528      5.0   \n",
       "\n",
       "                                                                                                                                                                                                                                                                                                                                                                                                                                                                                                            reviewText  \\\n",
       "0                                                                                                                                                                                                                                                                                                                                                                                                                       kids like story BUT while i really wanted a board book this one is just so small.  wish larger   \n",
       "1                                                                                                                                                                                                                                                                                         Bought this used and it came in great condition, almost like it had never been read. The story isn't as good as the original corduroy but my husband had this version as a child so had to add it to our daughter collection   \n",
       "2                                                                                                                                                                                                                                          Every story and book about Corduroy is Fantastic. This book is great and I bought all the Corduroy books for my 2 boys and now for their total of 5 children. You have to buy a Corduroy bear for everyone who has the books. Love to hold them while the stories are read.   \n",
       "3  I purchased this book for my first grade classroom. I read the book to the students during a math lesson. The first day, I split the students into groups and had them count how many pockets they had all together. They recorded it on a chart and answered questions like: Who had the most? Who had the least? Choose two numbers and compare using <,>,=. The second day we referenced the book and compared pockets of the boys vs the girls. They again answered questions about the numbers. They loved ...   \n",
       "4  Having spent numerous years in an elementary school library, I can say with all honesty that the Corduroy books were great favorites for all the years I was there. A Pocket for Corduroy is a charming addition to anyone's collection. It is a very sweet story about the owner of Corduroy who leaves him in the laundry and has some difficulties retrieving him. Children can relate to that quite well. Getting him back is a good lesson in itself. Sewing the pocket on for him is delightful. It has a ...   \n",
       "\n",
       "                              summary sentiment  \n",
       "0  good story, small size book though  positive  \n",
       "1                                Good  positive  \n",
       "2         Best Books for All Children  positive  \n",
       "3                     Great for Math!  positive  \n",
       "4                       Love Corduroy  positive  "
      ]
     },
     "metadata": {},
     "output_type": "display_data"
    }
   ],
   "source": [
    "sentiment_values = []\n",
    "for i in df['overall'].values:\n",
    "    if (i >= 4.):\n",
    "        sentiment_values.append('positive')\n",
    "    elif (i < 4. or i > 2.):\n",
    "        sentiment_values.append('neutral')\n",
    "    elif (i <= 2.):\n",
    "        sentiment_values.append('negative')\n",
    "\n",
    "df['sentiment'] = sentiment_values\n",
    "df.head()"
   ]
  },
  {
   "cell_type": "code",
   "execution_count": null,
   "metadata": {},
   "outputs": [
    {
     "name": "stderr",
     "output_type": "stream",
     "text": [
      "[nltk_data] Downloading package stopwords to /root/nltk_data...\n",
      "[nltk_data]   Unzipping corpora/stopwords.zip.\n",
      "[nltk_data] Downloading package wordnet to /root/nltk_data...\n"
     ]
    }
   ],
   "source": [
    "from nltk.corpus import stopwords\n",
    "from nltk.stem import WordNetLemmatizer\n",
    "import string\n",
    "\n",
    "nltk.download('stopwords')\n",
    "nltk.download('wordnet')\n",
    "\n",
    "def preprocess_text(text):\n",
    "    \"\"\"\n",
    "    Preprocesses a given text by performing the following steps:\n",
    "    1. Convert text to lowercase\n",
    "    2. Remove digits\n",
    "    3. Remove punctuations\n",
    "    4. Remove special characters\n",
    "    5. Remove stop words\n",
    "    6. Lemmatize the text\n",
    "    \n",
    "    Args:\n",
    "    text (str): The text to preprocess\n",
    "    \n",
    "    Returns:\n",
    "    str: The preprocessed text\n",
    "    \"\"\"\n",
    "    # Convert text to lowercase\n",
    "    text = text.lower()\n",
    "    \n",
    "    # Remove digits\n",
    "    text = ''.join([i for i in text if not i.isdigit()])\n",
    "    \n",
    "    # Remove punctuations\n",
    "    text = ''.join([i for i in text if i not in string.punctuation])\n",
    "    \n",
    "    # Remove special characters\n",
    "    text = ''.join(e for e in text if e.isalnum() or e.isspace())\n",
    "    \n",
    "    # Remove stop words\n",
    "    stop_words = set(stopwords.words('english'))\n",
    "    words = text.split()\n",
    "    words = [word for word in words if not word in stop_words]\n",
    "    \n",
    "    # Lemmatize the words\n",
    "    lemmatizer = WordNetLemmatizer()\n",
    "    words = [lemmatizer.lemmatize(word) for word in words]\n",
    "    \n",
    "    # Join the words back into a single string\n",
    "    text = ' '.join(words)\n",
    "    \n",
    "    return text\n"
   ]
  },
  {
   "cell_type": "code",
   "execution_count": null,
   "metadata": {},
   "outputs": [],
   "source": [
    "import random\n",
    "n_samples = random.randint(5000, 10000)\n",
    "#df_random['preprocessed_text'] = df_random['reviewText'].apply(lambda x: preprocess_text(x))"
   ]
  },
  {
   "cell_type": "code",
   "execution_count": null,
   "metadata": {},
   "outputs": [],
   "source": [
    "import random\n",
    "\n",
    "# Get the number of classes and minimum number of samples per class\n",
    "num_classes = len(df['sentiment'].unique())\n",
    "min_samples_per_class = n_samples // num_classes\n",
    "\n",
    "# Group the dataframe by the class column and take a random sample of the same size for each group\n",
    "df_random = df.groupby('sentiment').apply(lambda x: x.sample(n=min_samples_per_class, replace=True))\n",
    "\n",
    "# If the total number of samples is not evenly divisible by the number of classes,\n",
    "# take an additional random sample from the remaining samples for each class\n",
    "remaining_samples = n_samples - min_samples_per_class * num_classes\n",
    "if remaining_samples > 0:\n",
    "    for class_label in df['sentiment'].unique():\n",
    "        class_subset = df[df['sentiment'] == class_label]\n",
    "        df_random = pd.concat([df_random, class_subset.sample(n=remaining_samples, replace=True)])\n",
    "\n",
    "# Shuffle the rows of the resulting dataframe to mix the samples from different classes\n",
    "df_random = df_random.sample(frac=1, random_state=42)"
   ]
  },
  {
   "cell_type": "code",
   "execution_count": null,
   "metadata": {},
   "outputs": [
    {
     "name": "stdout",
     "output_type": "stream",
     "text": [
      "Shape of training data:  (5692,)\n",
      "Shape of testing data:  (2440,)\n",
      "Shape of training labels:  (5692,)\n",
      "Shape of testing labels:  (2440,)\n"
     ]
    }
   ],
   "source": [
    "from sklearn.model_selection import train_test_split\n",
    "x_train, x_test, y_train, y_test = train_test_split(df_random['reviewText'], df_random['sentiment'], test_size=0.3, stratify=df_random['sentiment'])\n",
    "\n",
    "print(\"Shape of training data: \", x_train.shape)\n",
    "print(\"Shape of testing data: \", x_test.shape)\n",
    "print(\"Shape of training labels: \", y_train.shape)\n",
    "print(\"Shape of testing labels: \", y_test.shape)\n"
   ]
  },
  {
   "cell_type": "code",
   "execution_count": null,
   "metadata": {},
   "outputs": [
    {
     "name": "stdout",
     "output_type": "stream",
     "text": [
      "shape of vectorized data (5692, 11313)\n",
      "total number of features (11313,)\n",
      "shape of vectorized test data (2440, 11313)\n"
     ]
    },
    {
     "data": {
      "text/plain": [
       "array(['aa', 'aaa', 'aaaaaagh', 'aag', 'aags', 'aawy', 'ab', 'aback',\n",
       "       'abandon', 'abandoned', 'abandoning', 'abbreviated', 'abbyy',\n",
       "       'abide', 'abiding', 'ability', 'able', 'abominably', 'abort',\n",
       "       'abound', 'abpout', 'abrade', 'abraham', 'abridged', 'absence',\n",
       "       'absolute', 'absolutely', 'absolve', 'absorbent', 'absorbs',\n",
       "       'abstract', 'absurdly', 'abuse', 'abut', 'abysmal', 'ac',\n",
       "       'academic', 'accent', 'accept', 'acceptable', 'acceptably',\n",
       "       'accepted', 'acceptno', 'accepts', 'access', 'accessed',\n",
       "       'accessible', 'accessing', 'accessory', 'accident', 'accidental',\n",
       "       'accidentally', 'accidently', 'accolade', 'accommodate',\n",
       "       'accommodating', 'accomodate', 'accompanied', 'accompanies',\n",
       "       'accompanying', 'accomplish', 'accord', 'according', 'accordingly',\n",
       "       'account', 'accountantbookkeeper', 'accounting', 'acct', 'accugel',\n",
       "       'accumulate', 'accumulated', 'accumulates', 'accumulation',\n",
       "       'accuracy', 'accuracymovement', 'accurate', 'accurately',\n",
       "       'accustomed', 'accutek', 'acer', 'ache', 'achieve', 'achieved',\n",
       "       'acid', 'acidfree', 'acknowledge', 'acknowledged',\n",
       "       'acknowledgement', 'acknowledges', 'acknowledging',\n",
       "       'acknowledgment', 'acquire', 'acquired', 'acquisition', 'acrid',\n",
       "       'acroball', 'acrobat', 'across', 'acrylic', 'act'], dtype=object)"
      ]
     },
     "metadata": {},
     "output_type": "display_data"
    }
   ],
   "source": [
    "vectorizer1 = TfidfVectorizer(preprocessor=preprocess_text)   #(stop_words='english',analyzer='word')\n",
    "x_train_matrix = vectorizer1.fit_transform(x_train).toarray() #  sparse matrix of type '<class 'numpy.float64'>\n",
    "print('shape of vectorized data', x_train_matrix.shape)\n",
    "print(\"total number of features\",vectorizer1.get_feature_names_out().shape)\n",
    "\n",
    "x_test_matrix = vectorizer1.transform(x_test).toarray()\n",
    "print('shape of vectorized test data',  x_test_matrix.shape)\n",
    "\n",
    "vectorizer1.get_feature_names_out()[:100]"
   ]
  },
  {
   "cell_type": "code",
   "execution_count": null,
   "metadata": {},
   "outputs": [
    {
     "name": "stdout",
     "output_type": "stream",
     "text": [
      "CPU times: user 277 ms, sys: 48.2 ms, total: 325 ms\n",
      "Wall time: 235 ms\n"
     ]
    }
   ],
   "source": [
    "from sklearn.utils.class_weight import compute_sample_weight\n",
    "from sklearn.pipeline import Pipeline\n",
    "\n",
    "sample_weights = compute_sample_weight(class_weight = 'balanced', y = y_train)\n",
    "\n",
    "# Train the classifier and predict for test data\n",
    "nb = MultinomialNB() # instantiate a Multinomial Naive Bayes model\n",
    "%time nb.fit(x_train_matrix, y_train) # train the model(timing it with an IPython \"magic command\")\n",
    "y_pred_class = nb.predict(x_test_matrix) # make class predictions for X_test_dtm"
   ]
  },
  {
   "cell_type": "code",
   "execution_count": null,
   "metadata": {},
   "outputs": [],
   "source": [
    "from sklearn.linear_model import LogisticRegression # REF (LogisticRegression Solvers): https://stackoverflow.com/questions/38640109/logistic-regression-python-solvers-definitions\n",
    "from sklearn.tree import DecisionTreeClassifier\n",
    "from sklearn import svm, tree, metrics\n",
    "from sklearn.ensemble import RandomForestClassifier, ExtraTreesClassifier, GradientBoostingClassifier, VotingClassifier\n",
    "\n",
    "'''\n",
    "lr_C = LogisticRegression(max_iter = 1400)\n",
    "rf_C = RandomForestClassifier()\n",
    "# LinearSVC(random_state = 42)\n",
    "svm_C = svm.SVC(probability=True, random_state = 42)\n",
    "dt_C = tree.DecisionTreeClassifier(criterion=\"entropy\", max_depth =42)\n",
    "et_C = ExtraTreesClassifier()\n",
    "\n",
    "rf_C = RandomForestClassifier(class_weight='balanced',\n",
    "         criterion='entropy',\n",
    "         max_depth=22,\n",
    "         min_samples_split=4,\n",
    "         n_estimators=250,\n",
    "         random_state=56)\n",
    "\n",
    "\n",
    " dt_C = tree.DecisionTreeClassifier(criterion=\"entropy\", max_depth =22, class_weight='balanced', random_state = 42)\n",
    " et_C = ExtraTreesClassifier(criterion=\"entropy\", max_depth =22, class_weight='balanced')\n",
    " LinearSVC(random_state = 42)'''\n",
    "\n",
    "lr_C = LogisticRegression(class_weight='balanced',random_state = 0, max_iter = 1400)\n",
    "gb_C = GradientBoostingClassifier(n_estimators=250, learning_rate=1.0,\n",
    "     max_depth=22, random_state=56)\n",
    "svm_C = svm.SVC(probability=True, random_state = 42)\n",
    "mnb_C = MultinomialNB()\n",
    "\n",
    "voting_clf = VotingClassifier(\n",
    "    estimators=[('lr', lr_C),\n",
    "                ('svm', svm_C),\n",
    "                ('mnb', mnb_C),\n",
    "                ('gbc', gb_C)],\n",
    "    voting='soft')"
   ]
  },
  {
   "cell_type": "code",
   "execution_count": null,
   "metadata": {},
   "outputs": [
    {
     "data": {
      "text/html": [
       "<style>#sk-container-id-3 {color: black;background-color: white;}#sk-container-id-3 pre{padding: 0;}#sk-container-id-3 div.sk-toggleable {background-color: white;}#sk-container-id-3 label.sk-toggleable__label {cursor: pointer;display: block;width: 100%;margin-bottom: 0;padding: 0.3em;box-sizing: border-box;text-align: center;}#sk-container-id-3 label.sk-toggleable__label-arrow:before {content: \"▸\";float: left;margin-right: 0.25em;color: #696969;}#sk-container-id-3 label.sk-toggleable__label-arrow:hover:before {color: black;}#sk-container-id-3 div.sk-estimator:hover label.sk-toggleable__label-arrow:before {color: black;}#sk-container-id-3 div.sk-toggleable__content {max-height: 0;max-width: 0;overflow: hidden;text-align: left;background-color: #f0f8ff;}#sk-container-id-3 div.sk-toggleable__content pre {margin: 0.2em;color: black;border-radius: 0.25em;background-color: #f0f8ff;}#sk-container-id-3 input.sk-toggleable__control:checked~div.sk-toggleable__content {max-height: 200px;max-width: 100%;overflow: auto;}#sk-container-id-3 input.sk-toggleable__control:checked~label.sk-toggleable__label-arrow:before {content: \"▾\";}#sk-container-id-3 div.sk-estimator input.sk-toggleable__control:checked~label.sk-toggleable__label {background-color: #d4ebff;}#sk-container-id-3 div.sk-label input.sk-toggleable__control:checked~label.sk-toggleable__label {background-color: #d4ebff;}#sk-container-id-3 input.sk-hidden--visually {border: 0;clip: rect(1px 1px 1px 1px);clip: rect(1px, 1px, 1px, 1px);height: 1px;margin: -1px;overflow: hidden;padding: 0;position: absolute;width: 1px;}#sk-container-id-3 div.sk-estimator {font-family: monospace;background-color: #f0f8ff;border: 1px dotted black;border-radius: 0.25em;box-sizing: border-box;margin-bottom: 0.5em;}#sk-container-id-3 div.sk-estimator:hover {background-color: #d4ebff;}#sk-container-id-3 div.sk-parallel-item::after {content: \"\";width: 100%;border-bottom: 1px solid gray;flex-grow: 1;}#sk-container-id-3 div.sk-label:hover label.sk-toggleable__label {background-color: #d4ebff;}#sk-container-id-3 div.sk-serial::before {content: \"\";position: absolute;border-left: 1px solid gray;box-sizing: border-box;top: 0;bottom: 0;left: 50%;z-index: 0;}#sk-container-id-3 div.sk-serial {display: flex;flex-direction: column;align-items: center;background-color: white;padding-right: 0.2em;padding-left: 0.2em;position: relative;}#sk-container-id-3 div.sk-item {position: relative;z-index: 1;}#sk-container-id-3 div.sk-parallel {display: flex;align-items: stretch;justify-content: center;background-color: white;position: relative;}#sk-container-id-3 div.sk-item::before, #sk-container-id-3 div.sk-parallel-item::before {content: \"\";position: absolute;border-left: 1px solid gray;box-sizing: border-box;top: 0;bottom: 0;left: 50%;z-index: -1;}#sk-container-id-3 div.sk-parallel-item {display: flex;flex-direction: column;z-index: 1;position: relative;background-color: white;}#sk-container-id-3 div.sk-parallel-item:first-child::after {align-self: flex-end;width: 50%;}#sk-container-id-3 div.sk-parallel-item:last-child::after {align-self: flex-start;width: 50%;}#sk-container-id-3 div.sk-parallel-item:only-child::after {width: 0;}#sk-container-id-3 div.sk-dashed-wrapped {border: 1px dashed gray;margin: 0 0.4em 0.5em 0.4em;box-sizing: border-box;padding-bottom: 0.4em;background-color: white;}#sk-container-id-3 div.sk-label label {font-family: monospace;font-weight: bold;display: inline-block;line-height: 1.2em;}#sk-container-id-3 div.sk-label-container {text-align: center;}#sk-container-id-3 div.sk-container {/* jupyter's `normalize.less` sets `[hidden] { display: none; }` but bootstrap.min.css set `[hidden] { display: none !important; }` so we also need the `!important` here to be able to override the default hidden behavior on the sphinx rendered scikit-learn.org. See: https://github.com/scikit-learn/scikit-learn/issues/21755 */display: inline-block !important;position: relative;}#sk-container-id-3 div.sk-text-repr-fallback {display: none;}</style><div id=\"sk-container-id-3\" class=\"sk-top-container\"><div class=\"sk-text-repr-fallback\"><pre>Pipeline(steps=[(&#x27;NLP&#x27;,\n",
       "                 TfidfVectorizer(preprocessor=&lt;function preprocess_text at 0x7f491a371d30&gt;)),\n",
       "                (&#x27;classifier&#x27;,\n",
       "                 VotingClassifier(estimators=[(&#x27;lr&#x27;,\n",
       "                                               LogisticRegression(class_weight=&#x27;balanced&#x27;,\n",
       "                                                                  max_iter=1400,\n",
       "                                                                  random_state=0)),\n",
       "                                              (&#x27;svm&#x27;,\n",
       "                                               SVC(probability=True,\n",
       "                                                   random_state=42)),\n",
       "                                              (&#x27;mnb&#x27;, MultinomialNB()),\n",
       "                                              (&#x27;gbc&#x27;,\n",
       "                                               GradientBoostingClassifier(learning_rate=1.0,\n",
       "                                                                          max_depth=22,\n",
       "                                                                          n_estimators=250,\n",
       "                                                                          random_state=56))],\n",
       "                                  voting=&#x27;soft&#x27;))])</pre><b>In a Jupyter environment, please rerun this cell to show the HTML representation or trust the notebook. <br />On GitHub, the HTML representation is unable to render, please try loading this page with nbviewer.org.</b></div><div class=\"sk-container\" hidden><div class=\"sk-item sk-dashed-wrapped\"><div class=\"sk-label-container\"><div class=\"sk-label sk-toggleable\"><input class=\"sk-toggleable__control sk-hidden--visually\" id=\"sk-estimator-id-15\" type=\"checkbox\" ><label for=\"sk-estimator-id-15\" class=\"sk-toggleable__label sk-toggleable__label-arrow\">Pipeline</label><div class=\"sk-toggleable__content\"><pre>Pipeline(steps=[(&#x27;NLP&#x27;,\n",
       "                 TfidfVectorizer(preprocessor=&lt;function preprocess_text at 0x7f491a371d30&gt;)),\n",
       "                (&#x27;classifier&#x27;,\n",
       "                 VotingClassifier(estimators=[(&#x27;lr&#x27;,\n",
       "                                               LogisticRegression(class_weight=&#x27;balanced&#x27;,\n",
       "                                                                  max_iter=1400,\n",
       "                                                                  random_state=0)),\n",
       "                                              (&#x27;svm&#x27;,\n",
       "                                               SVC(probability=True,\n",
       "                                                   random_state=42)),\n",
       "                                              (&#x27;mnb&#x27;, MultinomialNB()),\n",
       "                                              (&#x27;gbc&#x27;,\n",
       "                                               GradientBoostingClassifier(learning_rate=1.0,\n",
       "                                                                          max_depth=22,\n",
       "                                                                          n_estimators=250,\n",
       "                                                                          random_state=56))],\n",
       "                                  voting=&#x27;soft&#x27;))])</pre></div></div></div><div class=\"sk-serial\"><div class=\"sk-item\"><div class=\"sk-estimator sk-toggleable\"><input class=\"sk-toggleable__control sk-hidden--visually\" id=\"sk-estimator-id-16\" type=\"checkbox\" ><label for=\"sk-estimator-id-16\" class=\"sk-toggleable__label sk-toggleable__label-arrow\">TfidfVectorizer</label><div class=\"sk-toggleable__content\"><pre>TfidfVectorizer(preprocessor=&lt;function preprocess_text at 0x7f491a371d30&gt;)</pre></div></div></div><div class=\"sk-item sk-dashed-wrapped\"><div class=\"sk-label-container\"><div class=\"sk-label sk-toggleable\"><input class=\"sk-toggleable__control sk-hidden--visually\" id=\"sk-estimator-id-17\" type=\"checkbox\" ><label for=\"sk-estimator-id-17\" class=\"sk-toggleable__label sk-toggleable__label-arrow\">classifier: VotingClassifier</label><div class=\"sk-toggleable__content\"><pre>VotingClassifier(estimators=[(&#x27;lr&#x27;,\n",
       "                              LogisticRegression(class_weight=&#x27;balanced&#x27;,\n",
       "                                                 max_iter=1400,\n",
       "                                                 random_state=0)),\n",
       "                             (&#x27;svm&#x27;, SVC(probability=True, random_state=42)),\n",
       "                             (&#x27;mnb&#x27;, MultinomialNB()),\n",
       "                             (&#x27;gbc&#x27;,\n",
       "                              GradientBoostingClassifier(learning_rate=1.0,\n",
       "                                                         max_depth=22,\n",
       "                                                         n_estimators=250,\n",
       "                                                         random_state=56))],\n",
       "                 voting=&#x27;soft&#x27;)</pre></div></div></div><div class=\"sk-parallel\"><div class=\"sk-parallel-item\"><div class=\"sk-item\"><div class=\"sk-label-container\"><div class=\"sk-label sk-toggleable\"><label>lr</label></div></div><div class=\"sk-serial\"><div class=\"sk-item\"><div class=\"sk-estimator sk-toggleable\"><input class=\"sk-toggleable__control sk-hidden--visually\" id=\"sk-estimator-id-18\" type=\"checkbox\" ><label for=\"sk-estimator-id-18\" class=\"sk-toggleable__label sk-toggleable__label-arrow\">LogisticRegression</label><div class=\"sk-toggleable__content\"><pre>LogisticRegression(class_weight=&#x27;balanced&#x27;, max_iter=1400, random_state=0)</pre></div></div></div></div></div></div><div class=\"sk-parallel-item\"><div class=\"sk-item\"><div class=\"sk-label-container\"><div class=\"sk-label sk-toggleable\"><label>svm</label></div></div><div class=\"sk-serial\"><div class=\"sk-item\"><div class=\"sk-estimator sk-toggleable\"><input class=\"sk-toggleable__control sk-hidden--visually\" id=\"sk-estimator-id-19\" type=\"checkbox\" ><label for=\"sk-estimator-id-19\" class=\"sk-toggleable__label sk-toggleable__label-arrow\">SVC</label><div class=\"sk-toggleable__content\"><pre>SVC(probability=True, random_state=42)</pre></div></div></div></div></div></div><div class=\"sk-parallel-item\"><div class=\"sk-item\"><div class=\"sk-label-container\"><div class=\"sk-label sk-toggleable\"><label>mnb</label></div></div><div class=\"sk-serial\"><div class=\"sk-item\"><div class=\"sk-estimator sk-toggleable\"><input class=\"sk-toggleable__control sk-hidden--visually\" id=\"sk-estimator-id-20\" type=\"checkbox\" ><label for=\"sk-estimator-id-20\" class=\"sk-toggleable__label sk-toggleable__label-arrow\">MultinomialNB</label><div class=\"sk-toggleable__content\"><pre>MultinomialNB()</pre></div></div></div></div></div></div><div class=\"sk-parallel-item\"><div class=\"sk-item\"><div class=\"sk-label-container\"><div class=\"sk-label sk-toggleable\"><label>gbc</label></div></div><div class=\"sk-serial\"><div class=\"sk-item\"><div class=\"sk-estimator sk-toggleable\"><input class=\"sk-toggleable__control sk-hidden--visually\" id=\"sk-estimator-id-21\" type=\"checkbox\" ><label for=\"sk-estimator-id-21\" class=\"sk-toggleable__label sk-toggleable__label-arrow\">GradientBoostingClassifier</label><div class=\"sk-toggleable__content\"><pre>GradientBoostingClassifier(learning_rate=1.0, max_depth=22, n_estimators=250,\n",
       "                           random_state=56)</pre></div></div></div></div></div></div></div></div></div></div></div></div>"
      ],
      "text/plain": [
       "Pipeline(steps=[('NLP',\n",
       "                 TfidfVectorizer(preprocessor=<function preprocess_text at 0x7f491a371d30>)),\n",
       "                ('classifier',\n",
       "                 VotingClassifier(estimators=[('lr',\n",
       "                                               LogisticRegression(class_weight='balanced',\n",
       "                                                                  max_iter=1400,\n",
       "                                                                  random_state=0)),\n",
       "                                              ('svm',\n",
       "                                               SVC(probability=True,\n",
       "                                                   random_state=42)),\n",
       "                                              ('mnb', MultinomialNB()),\n",
       "                                              ('gbc',\n",
       "                                               GradientBoostingClassifier(learning_rate=1.0,\n",
       "                                                                          max_depth=22,\n",
       "                                                                          n_estimators=250,\n",
       "                                                                          random_state=56))],\n",
       "                                  voting='soft'))])"
      ]
     },
     "metadata": {},
     "output_type": "display_data"
    }
   ],
   "source": [
    "final_pipeline = Pipeline([(\"NLP\", TfidfVectorizer(preprocessor=preprocess_text)),\n",
    "                           ('classifier', voting_clf)])\n",
    "\n",
    "final_pipeline.fit(x_train, y_train)"
   ]
  },
  {
   "cell_type": "code",
   "execution_count": null,
   "metadata": {},
   "outputs": [
    {
     "name": "stdout",
     "output_type": "stream",
     "text": [
      "Looking in indexes: https://pypi.org/simple, https://us-python.pkg.dev/colab-wheels/public/simple/\n",
      "Requirement already satisfied: scikit-learn in /usr/local/lib/python3.9/dist-packages (1.2.2)\n",
      "Requirement already satisfied: threadpoolctl>=2.0.0 in /usr/local/lib/python3.9/dist-packages (from scikit-learn) (3.1.0)\n",
      "Requirement already satisfied: joblib>=1.1.1 in /usr/local/lib/python3.9/dist-packages (from scikit-learn) (1.2.0)\n",
      "Requirement already satisfied: scipy>=1.3.2 in /usr/local/lib/python3.9/dist-packages (from scikit-learn) (1.10.1)\n",
      "Requirement already satisfied: numpy>=1.17.3 in /usr/local/lib/python3.9/dist-packages (from scikit-learn) (1.22.4)\n"
     ]
    }
   ],
   "source": [
    "!pip install scikit-learn"
   ]
  },
  {
   "cell_type": "code",
   "execution_count": null,
   "metadata": {},
   "outputs": [
    {
     "name": "stdout",
     "output_type": "stream",
     "text": [
      "Model score 0.9806746310611384\n",
      "Test score 0.7954918032786885\n",
      "Classifier ROC curve\n",
      "(array([0.        , 0.18196721, 1.        ]), array([0.        , 0.77295082, 1.        ]), array([2, 1, 0]))\n",
      "[[998 222]\n",
      " [277 943]]\n"
     ]
    }
   ],
   "source": [
    "from sklearn import metrics\n",
    "from sklearn.preprocessing import LabelBinarizer\n",
    "\n",
    "y_pred = final_pipeline.predict(x_test)\n",
    "print(f'Model score {final_pipeline.score(x_train, y_train)}')\n",
    "print(f'Test score {final_pipeline.score(x_test, y_test)}')\n",
    "\n",
    "# convert categorical labels into binary labels\n",
    "lb = LabelBinarizer()\n",
    "y_test_binary = lb.fit_transform(y_test)\n",
    "y_pred_binary = lb.transform(y_pred)\n",
    "\n",
    "# from sklearn.metrics import plot_confusion_matrix, roc_auc_score, plot_roc_curve\n",
    "print('Classifier ROC curve')\n",
    "print(metrics.roc_curve(y_test_binary, y_pred_binary))\n",
    "\n",
    "\n",
    "cf_matrix = metrics.confusion_matrix(y_test, y_pred)\n",
    "print(cf_matrix)"
   ]
  },
  {
   "cell_type": "code",
   "execution_count": null,
   "metadata": {},
   "outputs": [
    {
     "data": {
      "text/plain": [
       "<Axes: >"
      ]
     },
     "metadata": {},
     "output_type": "display_data"
    },
    {
     "data": {
      "image/png": "[encoded data removed]",
      "text/plain": [
       "<Figure size 1500x800 with 2 Axes>"
      ]
     },
     "metadata": {},
     "output_type": "display_data"
    }
   ],
   "source": [
    "from seaborn import heatmap\n",
    "plt.figure(figsize=(15,8))\n",
    "heatmap(cf_matrix, annot=True, fmt=\".0f\")"
   ]
  },
  {
   "cell_type": "code",
   "execution_count": null,
   "metadata": {},
   "outputs": [
    {
     "name": "stdout",
     "output_type": "stream",
     "text": [
      "LogisticRegression\n",
      "Accuracy:  0.821917808219178\n",
      "Precision:  0.866879265233941\n",
      "Recall:  0.821917808219178\n",
      "F1 Score:  0.8381938304684294\n",
      "Classification Report: \n",
      "               precision    recall  f1-score   support\n",
      "\n",
      "     neutral       0.41      0.67      0.51       233\n",
      "    positive       0.94      0.85      0.89      1446\n",
      "\n",
      "    accuracy                           0.82      1679\n",
      "   macro avg       0.68      0.76      0.70      1679\n",
      "weighted avg       0.87      0.82      0.84      1679\n",
      "\n",
      "***********************************************************************\n",
      "\n",
      "SVC\n",
      "Accuracy:  0.8642048838594402\n",
      "Precision:  0.8526122660377081\n",
      "Recall:  0.8642048838594402\n",
      "F1 Score:  0.80623851149148\n",
      "Classification Report: \n",
      "               precision    recall  f1-score   support\n",
      "\n",
      "     neutral       0.78      0.03      0.06       233\n",
      "    positive       0.86      1.00      0.93      1446\n",
      "\n",
      "    accuracy                           0.86      1679\n",
      "   macro avg       0.82      0.51      0.49      1679\n",
      "weighted avg       0.85      0.86      0.81      1679\n",
      "\n",
      "***********************************************************************\n",
      "\n",
      "MultinomialNB\n",
      "Accuracy:  0.8612269207861822\n",
      "Precision:  0.741711809086849\n",
      "Recall:  0.8612269207861822\n",
      "F1 Score:  0.7970138415723645\n",
      "Classification Report: \n",
      "               precision    recall  f1-score   support\n",
      "\n",
      "     neutral       0.00      0.00      0.00       233\n",
      "    positive       0.86      1.00      0.93      1446\n",
      "\n",
      "    accuracy                           0.86      1679\n",
      "   macro avg       0.43      0.50      0.46      1679\n",
      "weighted avg       0.74      0.86      0.80      1679\n",
      "\n",
      "***********************************************************************\n",
      "\n",
      "GradientBoostingClassifier\n",
      "Accuracy:  0.8469326980345444\n",
      "Precision:  0.8195760582168109\n",
      "Recall:  0.8469326980345444\n",
      "F1 Score:  0.8292977909445456\n",
      "Classification Report: \n",
      "               precision    recall  f1-score   support\n",
      "\n",
      "     neutral       0.41      0.24      0.30       233\n",
      "    positive       0.89      0.94      0.91      1446\n",
      "\n",
      "    accuracy                           0.85      1679\n",
      "   macro avg       0.65      0.59      0.61      1679\n",
      "weighted avg       0.82      0.85      0.83      1679\n",
      "\n",
      "***********************************************************************\n",
      "\n"
     ]
    }
   ],
   "source": [
    "from sklearn.metrics import accuracy_score, precision_score, recall_score, f1_score, classification_report\n",
    "from collections import defaultdict\n",
    "\n",
    "tfidf = TfidfVectorizer(stop_words='english',analyzer='word')\n",
    "x_train_matrix = tfidf.fit_transform(x_train).toarray()\n",
    "x_test_matrix = tfidf.transform(x_test).toarray()\n",
    "accuracy_dict = defaultdict(int)\n",
    "for name, clf in voting_clf.named_estimators_.items():\n",
    "    clf.fit(x_train_matrix, y_train)\n",
    "    y_pred = clf.predict(x_test_matrix)\n",
    "    print(clf.__class__.__name__)\n",
    "    accuracy = accuracy_score(y_test, y_pred)\n",
    "    accuracy_dict[clf.__class__.__name__] = accuracy\n",
    "    print('Accuracy: ', accuracy)\n",
    "    print('Precision: ', precision_score(y_test, y_pred, average='weighted'))\n",
    "    print('Recall: ', recall_score(y_test, y_pred, average='weighted'))\n",
    "    print('F1 Score: ', f1_score(y_test, y_pred, average='weighted'))\n",
    "    print('Classification Report: \\n' , classification_report(y_test, y_pred))\n",
    "    print('***********************************************************************\\n')"
   ]
  },
  {
   "cell_type": "markdown",
   "metadata": {},
   "source": [
    "Finding the classifier with the highest accuracy:"
   ]
  },
  {
   "cell_type": "code",
   "execution_count": null,
   "metadata": {},
   "outputs": [
    {
     "name": "stdout",
     "output_type": "stream",
     "text": [
      "The classifier with the highest accuracy is: \n",
      "SVC\n"
     ]
    }
   ],
   "source": [
    "print('The classifier with the highest accuracy is: ')\n",
    "highest_accuracy_classifier = max(accuracy_dict, key=accuracy_dict.get)\n",
    "print(highest_accuracy_classifier)"
   ]
  },
  {
   "cell_type": "markdown",
   "metadata": {},
   "source": [
    "### Comparing accuracies:"
   ]
  },
  {
   "cell_type": "code",
   "execution_count": null,
   "metadata": {},
   "outputs": [
    {
     "data": {
      "text/plain": [
       "defaultdict(int,\n",
       "            {'LogisticRegression': 0.821917808219178,\n",
       "             'SVC': 0.8642048838594402,\n",
       "             'MultinomialNB': 0.8612269207861822,\n",
       "             'GradientBoostingClassifier': 0.8469326980345444})"
      ]
     },
     "metadata": {},
     "output_type": "display_data"
    }
   ],
   "source": [
    "#ml_model_accuracy_df = pd.DataFrame(accuracy_dict)\n",
    "accuracy_dict"
   ]
  },
  {
   "cell_type": "code",
   "execution_count": null,
   "metadata": {},
   "outputs": [],
   "source": [
    "lexicon_model_accuracy_df = pd.DataFrame(accuracy_list, columns=['Lexicon Model', 'Accuracy'])\n",
    "preprocessed_lexicon_model_accuracy_df = pd.DataFrame(preprocessed_accuracy_list, columns=['Lexicon Model', 'Accuracy'])"
   ]
  },
  {
   "cell_type": "code",
   "execution_count": null,
   "metadata": {},
   "outputs": [
    {
     "data": {
      "text/html": [
       "\n",
       "  <div id=\"df-5df3199b-1104-4d0f-9504-74ea229be91c\">\n",
       "    <div class=\"colab-df-container\">\n",
       "      <div>\n",
       "<style scoped>\n",
       "    .dataframe tbody tr th:only-of-type {\n",
       "        vertical-align: middle;\n",
       "    }\n",
       "\n",
       "    .dataframe tbody tr th {\n",
       "        vertical-align: top;\n",
       "    }\n",
       "\n",
       "    .dataframe thead th {\n",
       "        text-align: right;\n",
       "    }\n",
       "</style>\n",
       "<table border=\"1\" class=\"dataframe\">\n",
       "  <thead>\n",
       "    <tr style=\"text-align: right;\">\n",
       "      <th></th>\n",
       "      <th>Lexicon Model</th>\n",
       "      <th>Accuracy</th>\n",
       "    </tr>\n",
       "  </thead>\n",
       "  <tbody>\n",
       "    <tr>\n",
       "      <th>0</th>\n",
       "      <td>VADR</td>\n",
       "      <td>83.524027</td>\n",
       "    </tr>\n",
       "    <tr>\n",
       "      <th>1</th>\n",
       "      <td>TextBlob</td>\n",
       "      <td>81.006865</td>\n",
       "    </tr>\n",
       "    <tr>\n",
       "      <th>2</th>\n",
       "      <td>Sentiwordnet</td>\n",
       "      <td>61.212815</td>\n",
       "    </tr>\n",
       "  </tbody>\n",
       "</table>\n",
       "</div>\n",
       "      <button class=\"colab-df-convert\" onclick=\"convertToInteractive('df-5df3199b-1104-4d0f-9504-74ea229be91c')\"\n",
       "              title=\"Convert this dataframe to an interactive table.\"\n",
       "              style=\"display:none;\">\n",
       "        \n",
       "  <svg xmlns=\"http://www.w3.org/2000/svg\" height=\"24px\"viewBox=\"0 0 24 24\"\n",
       "       width=\"24px\">\n",
       "    <path d=\"M0 0h24v24H0V0z\" fill=\"none\"/>\n",
       "    <path d=\"M18.56 5.44l.94 2.06.94-2.06 2.06-.94-2.06-.94-.94-2.06-.94 2.06-2.06.94zm-11 1L8.5 8.5l.94-2.06 2.06-.94-2.06-.94L8.5 2.5l-.94 2.06-2.06.94zm10 10l.94 2.06.94-2.06 2.06-.94-2.06-.94-.94-2.06-.94 2.06-2.06.94z\"/><path d=\"M17.41 7.96l-1.37-1.37c-.4-.4-.92-.59-1.43-.59-.52 0-1.04.2-1.43.59L10.3 9.45l-7.72 7.72c-.78.78-.78 2.05 0 2.83L4 21.41c.39.39.9.59 1.41.59.51 0 1.02-.2 1.41-.59l7.78-7.78 2.81-2.81c.8-.78.8-2.07 0-2.86zM5.41 20L4 18.59l7.72-7.72 1.47 1.35L5.41 20z\"/>\n",
       "  </svg>\n",
       "      </button>\n",
       "      \n",
       "  <style>\n",
       "    .colab-df-container {\n",
       "      display:flex;\n",
       "      flex-wrap:wrap;\n",
       "      gap: 12px;\n",
       "    }\n",
       "\n",
       "    .colab-df-convert {\n",
       "      background-color: #E8F0FE;\n",
       "      border: none;\n",
       "      border-radius: 50%;\n",
       "      cursor: pointer;\n",
       "      display: none;\n",
       "      fill: #1967D2;\n",
       "      height: 32px;\n",
       "      padding: 0 0 0 0;\n",
       "      width: 32px;\n",
       "    }\n",
       "\n",
       "    .colab-df-convert:hover {\n",
       "      background-color: #E2EBFA;\n",
       "      box-shadow: 0px 1px 2px rgba(60, 64, 67, 0.3), 0px 1px 3px 1px rgba(60, 64, 67, 0.15);\n",
       "      fill: #174EA6;\n",
       "    }\n",
       "\n",
       "    [theme=dark] .colab-df-convert {\n",
       "      background-color: #3B4455;\n",
       "      fill: #D2E3FC;\n",
       "    }\n",
       "\n",
       "    [theme=dark] .colab-df-convert:hover {\n",
       "      background-color: #434B5C;\n",
       "      box-shadow: 0px 1px 3px 1px rgba(0, 0, 0, 0.15);\n",
       "      filter: drop-shadow(0px 1px 2px rgba(0, 0, 0, 0.3));\n",
       "      fill: #FFFFFF;\n",
       "    }\n",
       "  </style>\n",
       "\n",
       "      <script>\n",
       "        const buttonEl =\n",
       "          document.querySelector('#df-5df3199b-1104-4d0f-9504-74ea229be91c button.colab-df-convert');\n",
       "        buttonEl.style.display =\n",
       "          google.colab.kernel.accessAllowed ? 'block' : 'none';\n",
       "\n",
       "        async function convertToInteractive(key) {\n",
       "          const element = document.querySelector('#df-5df3199b-1104-4d0f-9504-74ea229be91c');\n",
       "          const dataTable =\n",
       "            await google.colab.kernel.invokeFunction('convertToInteractive',\n",
       "                                                     [key], {});\n",
       "          if (!dataTable) return;\n",
       "\n",
       "          const docLinkHtml = 'Like what you see? Visit the ' +\n",
       "            '<a target=\"_blank\" href=https://colab.research.google.com/notebooks/data_table.ipynb>data table notebook</a>'\n",
       "            + ' to learn more about interactive tables.';\n",
       "          element.innerHTML = '';\n",
       "          dataTable['output_type'] = 'display_data';\n",
       "          await google.colab.output.renderOutput(dataTable, element);\n",
       "          const docLink = document.createElement('div');\n",
       "          docLink.innerHTML = docLinkHtml;\n",
       "          element.appendChild(docLink);\n",
       "        }\n",
       "      </script>\n",
       "    </div>\n",
       "  </div>\n",
       "  "
      ],
      "text/plain": [
       "  Lexicon Model   Accuracy\n",
       "0          VADR  83.524027\n",
       "1      TextBlob  81.006865\n",
       "2  Sentiwordnet  61.212815"
      ]
     },
     "metadata": {},
     "output_type": "display_data"
    }
   ],
   "source": [
    "lexicon_model_accuracy_df"
   ]
  },
  {
   "cell_type": "code",
   "execution_count": null,
   "metadata": {},
   "outputs": [
    {
     "data": {
      "text/html": [
       "\n",
       "  <div id=\"df-b5283818-9c0b-483f-99e7-c61c9e9c9a81\">\n",
       "    <div class=\"colab-df-container\">\n",
       "      <div>\n",
       "<style scoped>\n",
       "    .dataframe tbody tr th:only-of-type {\n",
       "        vertical-align: middle;\n",
       "    }\n",
       "\n",
       "    .dataframe tbody tr th {\n",
       "        vertical-align: top;\n",
       "    }\n",
       "\n",
       "    .dataframe thead th {\n",
       "        text-align: right;\n",
       "    }\n",
       "</style>\n",
       "<table border=\"1\" class=\"dataframe\">\n",
       "  <thead>\n",
       "    <tr style=\"text-align: right;\">\n",
       "      <th></th>\n",
       "      <th>Lexicon Model</th>\n",
       "      <th>Accuracy</th>\n",
       "    </tr>\n",
       "  </thead>\n",
       "  <tbody>\n",
       "    <tr>\n",
       "      <th>0</th>\n",
       "      <td>VADR</td>\n",
       "      <td>5.835240</td>\n",
       "    </tr>\n",
       "    <tr>\n",
       "      <th>1</th>\n",
       "      <td>TextBlob</td>\n",
       "      <td>65.217391</td>\n",
       "    </tr>\n",
       "    <tr>\n",
       "      <th>2</th>\n",
       "      <td>Sentiwordnet</td>\n",
       "      <td>76.315789</td>\n",
       "    </tr>\n",
       "  </tbody>\n",
       "</table>\n",
       "</div>\n",
       "      <button class=\"colab-df-convert\" onclick=\"convertToInteractive('df-b5283818-9c0b-483f-99e7-c61c9e9c9a81')\"\n",
       "              title=\"Convert this dataframe to an interactive table.\"\n",
       "              style=\"display:none;\">\n",
       "        \n",
       "  <svg xmlns=\"http://www.w3.org/2000/svg\" height=\"24px\"viewBox=\"0 0 24 24\"\n",
       "       width=\"24px\">\n",
       "    <path d=\"M0 0h24v24H0V0z\" fill=\"none\"/>\n",
       "    <path d=\"M18.56 5.44l.94 2.06.94-2.06 2.06-.94-2.06-.94-.94-2.06-.94 2.06-2.06.94zm-11 1L8.5 8.5l.94-2.06 2.06-.94-2.06-.94L8.5 2.5l-.94 2.06-2.06.94zm10 10l.94 2.06.94-2.06 2.06-.94-2.06-.94-.94-2.06-.94 2.06-2.06.94z\"/><path d=\"M17.41 7.96l-1.37-1.37c-.4-.4-.92-.59-1.43-.59-.52 0-1.04.2-1.43.59L10.3 9.45l-7.72 7.72c-.78.78-.78 2.05 0 2.83L4 21.41c.39.39.9.59 1.41.59.51 0 1.02-.2 1.41-.59l7.78-7.78 2.81-2.81c.8-.78.8-2.07 0-2.86zM5.41 20L4 18.59l7.72-7.72 1.47 1.35L5.41 20z\"/>\n",
       "  </svg>\n",
       "      </button>\n",
       "      \n",
       "  <style>\n",
       "    .colab-df-container {\n",
       "      display:flex;\n",
       "      flex-wrap:wrap;\n",
       "      gap: 12px;\n",
       "    }\n",
       "\n",
       "    .colab-df-convert {\n",
       "      background-color: #E8F0FE;\n",
       "      border: none;\n",
       "      border-radius: 50%;\n",
       "      cursor: pointer;\n",
       "      display: none;\n",
       "      fill: #1967D2;\n",
       "      height: 32px;\n",
       "      padding: 0 0 0 0;\n",
       "      width: 32px;\n",
       "    }\n",
       "\n",
       "    .colab-df-convert:hover {\n",
       "      background-color: #E2EBFA;\n",
       "      box-shadow: 0px 1px 2px rgba(60, 64, 67, 0.3), 0px 1px 3px 1px rgba(60, 64, 67, 0.15);\n",
       "      fill: #174EA6;\n",
       "    }\n",
       "\n",
       "    [theme=dark] .colab-df-convert {\n",
       "      background-color: #3B4455;\n",
       "      fill: #D2E3FC;\n",
       "    }\n",
       "\n",
       "    [theme=dark] .colab-df-convert:hover {\n",
       "      background-color: #434B5C;\n",
       "      box-shadow: 0px 1px 3px 1px rgba(0, 0, 0, 0.15);\n",
       "      filter: drop-shadow(0px 1px 2px rgba(0, 0, 0, 0.3));\n",
       "      fill: #FFFFFF;\n",
       "    }\n",
       "  </style>\n",
       "\n",
       "      <script>\n",
       "        const buttonEl =\n",
       "          document.querySelector('#df-b5283818-9c0b-483f-99e7-c61c9e9c9a81 button.colab-df-convert');\n",
       "        buttonEl.style.display =\n",
       "          google.colab.kernel.accessAllowed ? 'block' : 'none';\n",
       "\n",
       "        async function convertToInteractive(key) {\n",
       "          const element = document.querySelector('#df-b5283818-9c0b-483f-99e7-c61c9e9c9a81');\n",
       "          const dataTable =\n",
       "            await google.colab.kernel.invokeFunction('convertToInteractive',\n",
       "                                                     [key], {});\n",
       "          if (!dataTable) return;\n",
       "\n",
       "          const docLinkHtml = 'Like what you see? Visit the ' +\n",
       "            '<a target=\"_blank\" href=https://colab.research.google.com/notebooks/data_table.ipynb>data table notebook</a>'\n",
       "            + ' to learn more about interactive tables.';\n",
       "          element.innerHTML = '';\n",
       "          dataTable['output_type'] = 'display_data';\n",
       "          await google.colab.output.renderOutput(dataTable, element);\n",
       "          const docLink = document.createElement('div');\n",
       "          docLink.innerHTML = docLinkHtml;\n",
       "          element.appendChild(docLink);\n",
       "        }\n",
       "      </script>\n",
       "    </div>\n",
       "  </div>\n",
       "  "
      ],
      "text/plain": [
       "  Lexicon Model   Accuracy\n",
       "0          VADR   5.835240\n",
       "1      TextBlob  65.217391\n",
       "2  Sentiwordnet  76.315789"
      ]
     },
     "metadata": {},
     "output_type": "display_data"
    }
   ],
   "source": [
    "preprocessed_lexicon_model_accuracy_df"
   ]
  },
  {
   "cell_type": "markdown",
   "metadata": {},
   "source": [
    "### K Nearest Neighbor Collaborative Filtering approach:"
   ]
  },
  {
   "cell_type": "code",
   "execution_count": null,
   "metadata": {},
   "outputs": [
    {
     "name": "stdout",
     "output_type": "stream",
     "text": [
      "Looking in indexes: https://pypi.org/simple, https://us-python.pkg.dev/colab-wheels/public/simple/\n",
      "Collecting surprise\n",
      "  Downloading surprise-0.1-py2.py3-none-any.whl (1.8 kB)\n",
      "Collecting scikit-surprise\n",
      "  Downloading scikit-surprise-1.1.3.tar.gz (771 kB)\n",
      "\u001b[2K     \u001b[90m━━━━━━━━━━━━━━━━━━━━━━━━━━━━━━━━━━━━━━\u001b[0m \u001b[32m772.0/772.0 kB\u001b[0m \u001b[31m13.2 MB/s\u001b[0m eta \u001b[36m0:00:00\u001b[0m\n",
      "\u001b[?25h  Preparing metadata (setup.py) ... \u001b[?25l\u001b[?25hdone\n",
      "Requirement already satisfied: joblib>=1.0.0 in /usr/local/lib/python3.9/dist-packages (from scikit-surprise->surprise) (1.2.0)\n",
      "Requirement already satisfied: numpy>=1.17.3 in /usr/local/lib/python3.9/dist-packages (from scikit-surprise->surprise) (1.22.4)\n",
      "Requirement already satisfied: scipy>=1.3.2 in /usr/local/lib/python3.9/dist-packages (from scikit-surprise->surprise) (1.10.1)\n",
      "Building wheels for collected packages: scikit-surprise\n",
      "  Building wheel for scikit-surprise (setup.py) ... \u001b[?25l\u001b[?25hdone\n",
      "  Created wheel for scikit-surprise: filename=scikit_surprise-1.1.3-cp39-cp39-linux_x86_64.whl size=3195813 sha256=94860e4fd91f147a41346d8c294fc5efd0f35845be1768181937bd5f2be34a84\n",
      "  Stored in directory: /root/.cache/pip/wheels/c6/3a/46/9b17b3512bdf283c6cb84f59929cdd5199d4e754d596d22784\n",
      "Successfully built scikit-surprise\n",
      "Installing collected packages: scikit-surprise, surprise\n",
      "Successfully installed scikit-surprise-1.1.3 surprise-0.1\n"
     ]
    }
   ],
   "source": [
    "!pip install surprise"
   ]
  },
  {
   "cell_type": "code",
   "execution_count": null,
   "metadata": {},
   "outputs": [],
   "source": [
    "from surprise import Dataset\n",
    "from surprise import Reader\n",
    "from surprise import KNNWithMeans"
   ]
  },
  {
   "cell_type": "code",
   "execution_count": null,
   "metadata": {},
   "outputs": [],
   "source": [
    "reader = Reader(rating_scale=(1, 5))\n",
    "data = Dataset.load_from_df(df_random[['reviewerID', 'asin', 'overall']], reader)\n",
    "\n",
    "# Build a training set from the entire dataset\n",
    "trainset = data.build_full_trainset()"
   ]
  },
  {
   "cell_type": "code",
   "execution_count": null,
   "metadata": {},
   "outputs": [
    {
     "name": "stdout",
     "output_type": "stream",
     "text": [
      "Computing the pearson similarity matrix...\n",
      "Done computing similarity matrix.\n"
     ]
    },
    {
     "data": {
      "text/plain": [
       "<surprise.prediction_algorithms.knns.KNNWithMeans at 0x7f496ad61b80>"
      ]
     },
     "metadata": {},
     "output_type": "display_data"
    }
   ],
   "source": [
    "model = KNNWithMeans(k=50, sim_options={'name': 'pearson', 'user_based': True})\n",
    "model.fit(trainset)"
   ]
  },
  {
   "cell_type": "code",
   "execution_count": null,
   "metadata": {},
   "outputs": [],
   "source": [
    "all_asins = df_random['asin'].unique()\n",
    "\n",
    "def recommend_products(user_id):\n",
    "  rated_asins = df_random[df_random['reviewerID'] == user_id]['asin'].unique()\n",
    "  unrated_asins = list(set(all_asins) - set(rated_asins))\n",
    "\n",
    "  predictions = []\n",
    "  for asin in unrated_asins:\n",
    "      pred = model.predict(user_id, asin)\n",
    "      predictions.append((asin, pred.est))\n",
    "\n",
    "  predictions.sort(key=lambda x: x[1], reverse=True)\n",
    "  return [asin for asin, rating in predictions[:10]]"
   ]
  },
  {
   "cell_type": "code",
   "execution_count": null,
   "metadata": {},
   "outputs": [
    {
     "name": "stdout",
     "output_type": "stream",
     "text": [
      "Recommended products of A27TVBD5GVDHD8 are: B015I4D16C, B00B5WCCQW, B012O5VKMA, B000K7RK6A, B000IOHYUW, B00ME26SYE, B006ZZGD3W, B00CQF69SO, B0045Z8O7C, B000FPIUAW\n"
     ]
    }
   ],
   "source": [
    "user_id = 'A27TVBD5GVDHD8'\n",
    "recommendations = recommend_products(user_id)\n",
    "print(f'Recommended products of {user_id} are: {\", \".join(recommendations)}')"
   ]
  },
  {
   "cell_type": "markdown",
   "metadata": {},
   "source": [
    "### SVD Collaborative Filtering approach:"
   ]
  },
  {
   "cell_type": "code",
   "execution_count": null,
   "metadata": {},
   "outputs": [],
   "source": [
    "from surprise import SVD"
   ]
  },
  {
   "cell_type": "code",
   "execution_count": null,
   "metadata": {},
   "outputs": [],
   "source": [
    "reader = Reader(rating_scale=(1, 5))\n",
    "data = Dataset.load_from_df(df_random[['reviewerID', 'asin', 'overall']], reader)\n",
    "trainset = data.build_full_trainset()"
   ]
  },
  {
   "cell_type": "code",
   "execution_count": null,
   "metadata": {},
   "outputs": [
    {
     "data": {
      "text/plain": [
       "<surprise.prediction_algorithms.matrix_factorization.SVD at 0x7f496b918550>"
      ]
     },
     "metadata": {},
     "output_type": "display_data"
    }
   ],
   "source": [
    "svd = SVD()\n",
    "svd.fit(trainset)"
   ]
  },
  {
   "cell_type": "code",
   "execution_count": null,
   "metadata": {},
   "outputs": [],
   "source": [
    "all_asins = df_random['asin'].unique()\n",
    "\n",
    "def recommend_products(user_id):\n",
    "  rated_asins = df_random[df_random['reviewerID'] == user_id]['asin'].unique()\n",
    "  unrated_asins = set(all_asins) - set(rated_asins)\n",
    "\n",
    "  predictions = []\n",
    "  for asin in unrated_asins:\n",
    "    pred = svd.predict(user_id, asin)\n",
    "    predictions.append((asin, pred.est))\n",
    "  \n",
    "  predictions.sort(key=lambda x: x[1], reverse=True)\n",
    "  return [asin for asin, _ in predictions[:10]]"
   ]
  },
  {
   "cell_type": "code",
   "execution_count": null,
   "metadata": {},
   "outputs": [
    {
     "name": "stdout",
     "output_type": "stream",
     "text": [
      "Recommended products of A27TVBD5GVDHD8 are: B00006IFEU, B00A89YZ6S, B001CD7M1O, B001CJRM36, B000J09D2W, B0018NC2SQ, B0016T9MXK, B00004Z6JX, B003YFHCKY, B00178QQJ8\n"
     ]
    }
   ],
   "source": [
    "user_id = 'A27TVBD5GVDHD8'\n",
    "recommendations = recommend_products(user_id)\n",
    "print(f'Recommended products of {user_id} are: {\", \".join(recommendations)}')"
   ]
  },
  {
   "cell_type": "markdown",
   "metadata": {},
   "source": [
    "### Enhancing the rating:"
   ]
  },
  {
   "cell_type": "code",
   "execution_count": null,
   "metadata": {},
   "outputs": [
    {
     "name": "stderr",
     "output_type": "stream",
     "text": [
      "[nltk_data] Downloading package punkt to /root/nltk_data...\n",
      "[nltk_data]   Unzipping tokenizers/punkt.zip.\n",
      "[nltk_data] Downloading package stopwords to /root/nltk_data...\n",
      "[nltk_data]   Package stopwords is already up-to-date!\n",
      "[nltk_data] Downloading package averaged_perceptron_tagger to\n",
      "[nltk_data]     /root/nltk_data...\n",
      "[nltk_data]   Unzipping taggers/averaged_perceptron_tagger.zip.\n",
      "[nltk_data] Downloading package wordnet to /root/nltk_data...\n",
      "[nltk_data]   Package wordnet is already up-to-date!\n"
     ]
    }
   ],
   "source": [
    "import pandas as pd\n",
    "import nltk\n",
    "from nltk.corpus import stopwords\n",
    "from nltk.tokenize import word_tokenize\n",
    "from nltk.stem import WordNetLemmatizer\n",
    "\n",
    "# Download required NLTK resources\n",
    "nltk.download('punkt')\n",
    "nltk.download('stopwords')\n",
    "nltk.download('averaged_perceptron_tagger')\n",
    "nltk.download('wordnet')\n",
    "\n",
    "\n",
    "# Preprocess the review text\n",
    "lemmatizer = WordNetLemmatizer()\n",
    "stop_words = set(stopwords.words('english'))\n",
    "reviews_processed = []\n",
    "for review in df_random['reviewText']:\n",
    "    tokens = word_tokenize(review.lower())\n",
    "    tokens_filtered = [lemmatizer.lemmatize(token) for token in tokens if token.isalpha() and token not in stop_words]\n",
    "    reviews_processed.append(tokens_filtered)\n",
    "\n",
    "# Extract adjectives and verbs as opinion words\n",
    "opinion_words = []\n",
    "for review in reviews_processed:\n",
    "    pos_tags = nltk.pos_tag(review)\n",
    "    for word, pos in pos_tags:\n",
    "        if pos.startswith('JJ') or pos.startswith('VB'):\n",
    "            opinion_words.append(word)\n",
    "\n",
    "# Determine the sentiment orientation of each opinion word\n",
    "positive_reviews = df_random[df_random['sentiment'] == 'positive']['reviewText'].tolist()\n",
    "negative_reviews = df_random[df_random['sentiment'] == 'negative']['reviewText'].tolist()\n",
    "positive_opinion_words = []\n",
    "negative_opinion_words = []\n",
    "for word in opinion_words:\n",
    "    freq_pos = sum([1 for review in positive_reviews if word in review])\n",
    "    freq_neg = sum([1 for review in negative_reviews if word in review])\n",
    "    if freq_pos > 0 or freq_neg > 0:\n",
    "        ratio = freq_pos / freq_neg if freq_neg > 0 else freq_pos\n",
    "        if ratio > 1:\n",
    "            positive_opinion_words.append(word)\n",
    "        elif ratio < 1:\n",
    "            negative_opinion_words.append(word)\n",
    "\n",
    "# Calculate the overall sentiment strength of each review\n",
    "sentiment_strengths = []\n",
    "for review in df_random['reviewText']:\n",
    "    sentiment_strength = 0\n",
    "    num_opinion_words = 0\n",
    "    for token in word_tokenize(review.lower()):\n",
    "        if token in positive_opinion_words:\n",
    "            sentiment_strength += 1\n",
    "            num_opinion_words += 1\n",
    "        elif token in negative_opinion_words:\n",
    "            sentiment_strength -= 1\n",
    "            num_opinion_words += 1\n",
    "    if num_opinion_words > 0:\n",
    "        overall_sentiment_strength = sentiment_strength / num_opinion_words\n",
    "    else:\n",
    "        overall_sentiment_strength = 0\n",
    "    sentiment_strengths.append(overall_sentiment_strength)\n",
    "\n",
    "# Map the overall sentiment strength to a corresponding rating on a 5-point scale\n",
    "max_possible_sentiment_strength = len(positive_opinion_words) + len(negative_opinion_words)\n",
    "ratings = []\n",
    "for sentiment_strength in sentiment_strengths:\n",
    "    if sentiment_strength > 0:\n",
    "        rating = (sentiment_strength / max_possible_sentiment_strength) * 3 + 4\n",
    "    elif sentiment_strength < 0:\n",
    "        rating = (sentiment_strength / max_possible_sentiment_strength) * 3 + 2\n",
    "    else:\n",
    "        rating = 3\n",
    "    ratings.append(rating)\n",
    "\n",
    "\n",
    "\n",
    "# Add the ratings to the dataframe\n",
    "df_random['rating'] = ratings\n",
    "\n",
    "# # Save the results to a CSV file\n",
    "# reviews_df.to_csv('reviews_with_ratings.csv', index=False)"
   ]
  },
  {
   "cell_type": "code",
   "execution_count": null,
   "metadata": {},
   "outputs": [],
   "source": [
    "df_random['enhanced_rating'] = df_random[['overall', 'rating']].mean(axis=1)"
   ]
  },
  {
   "cell_type": "code",
   "execution_count": null,
   "metadata": {},
   "outputs": [
    {
     "data": {
      "text/html": [
       "\n",
       "  <div id=\"df-6af2042f-3077-4137-b93a-912bec75a3c6\">\n",
       "    <div class=\"colab-df-container\">\n",
       "      <div>\n",
       "<style scoped>\n",
       "    .dataframe tbody tr th:only-of-type {\n",
       "        vertical-align: middle;\n",
       "    }\n",
       "\n",
       "    .dataframe tbody tr th {\n",
       "        vertical-align: top;\n",
       "    }\n",
       "\n",
       "    .dataframe thead th {\n",
       "        text-align: right;\n",
       "    }\n",
       "</style>\n",
       "<table border=\"1\" class=\"dataframe\">\n",
       "  <thead>\n",
       "    <tr style=\"text-align: right;\">\n",
       "      <th></th>\n",
       "      <th>reviewerID</th>\n",
       "      <th>asin</th>\n",
       "      <th>overall</th>\n",
       "      <th>reviewText</th>\n",
       "      <th>summary</th>\n",
       "      <th>sentiment</th>\n",
       "    </tr>\n",
       "  </thead>\n",
       "  <tbody>\n",
       "    <tr>\n",
       "      <th>0</th>\n",
       "      <td>A2NIJTYWADLK57</td>\n",
       "      <td>0140503528</td>\n",
       "      <td>4.0</td>\n",
       "      <td>kids like story BUT while i really wanted a board book this one is just so small.  wish larger</td>\n",
       "      <td>good story, small size book though</td>\n",
       "      <td>positive</td>\n",
       "    </tr>\n",
       "    <tr>\n",
       "      <th>1</th>\n",
       "      <td>A2827D8EEURMP4</td>\n",
       "      <td>0140503528</td>\n",
       "      <td>4.0</td>\n",
       "      <td>Bought this used and it came in great condition, almost like it had never been read. The story isn't as good as the original corduroy but my husband had this version as a child so had to add it to our daughter collection</td>\n",
       "      <td>Good</td>\n",
       "      <td>positive</td>\n",
       "    </tr>\n",
       "    <tr>\n",
       "      <th>2</th>\n",
       "      <td>APB6087F4J09J</td>\n",
       "      <td>0140503528</td>\n",
       "      <td>5.0</td>\n",
       "      <td>Every story and book about Corduroy is Fantastic. This book is great and I bought all the Corduroy books for my 2 boys and now for their total of 5 children. You have to buy a Corduroy bear for everyone who has the books. Love to hold them while the stories are read.</td>\n",
       "      <td>Best Books for All Children</td>\n",
       "      <td>positive</td>\n",
       "    </tr>\n",
       "    <tr>\n",
       "      <th>3</th>\n",
       "      <td>A2DHERRZIPFU7X</td>\n",
       "      <td>0140503528</td>\n",
       "      <td>5.0</td>\n",
       "      <td>I purchased this book for my first grade classroom. I read the book to the students during a math lesson. The first day, I split the students into groups and had them count how many pockets they had all together. They recorded it on a chart and answered questions like: Who had the most? Who had the least? Choose two numbers and compare using &lt;,&gt;,=. The second day we referenced the book and compared pockets of the boys vs the girls. They again answered questions about the numbers. They loved ...</td>\n",
       "      <td>Great for Math!</td>\n",
       "      <td>positive</td>\n",
       "    </tr>\n",
       "    <tr>\n",
       "      <th>4</th>\n",
       "      <td>A2XCLJRGFANRC</td>\n",
       "      <td>0140503528</td>\n",
       "      <td>5.0</td>\n",
       "      <td>Having spent numerous years in an elementary school library, I can say with all honesty that the Corduroy books were great favorites for all the years I was there. A Pocket for Corduroy is a charming addition to anyone's collection. It is a very sweet story about the owner of Corduroy who leaves him in the laundry and has some difficulties retrieving him. Children can relate to that quite well. Getting him back is a good lesson in itself. Sewing the pocket on for him is delightful. It has a ...</td>\n",
       "      <td>Love Corduroy</td>\n",
       "      <td>positive</td>\n",
       "    </tr>\n",
       "  </tbody>\n",
       "</table>\n",
       "</div>\n",
       "      <button class=\"colab-df-convert\" onclick=\"convertToInteractive('df-6af2042f-3077-4137-b93a-912bec75a3c6')\"\n",
       "              title=\"Convert this dataframe to an interactive table.\"\n",
       "              style=\"display:none;\">\n",
       "        \n",
       "  <svg xmlns=\"http://www.w3.org/2000/svg\" height=\"24px\"viewBox=\"0 0 24 24\"\n",
       "       width=\"24px\">\n",
       "    <path d=\"M0 0h24v24H0V0z\" fill=\"none\"/>\n",
       "    <path d=\"M18.56 5.44l.94 2.06.94-2.06 2.06-.94-2.06-.94-.94-2.06-.94 2.06-2.06.94zm-11 1L8.5 8.5l.94-2.06 2.06-.94-2.06-.94L8.5 2.5l-.94 2.06-2.06.94zm10 10l.94 2.06.94-2.06 2.06-.94-2.06-.94-.94-2.06-.94 2.06-2.06.94z\"/><path d=\"M17.41 7.96l-1.37-1.37c-.4-.4-.92-.59-1.43-.59-.52 0-1.04.2-1.43.59L10.3 9.45l-7.72 7.72c-.78.78-.78 2.05 0 2.83L4 21.41c.39.39.9.59 1.41.59.51 0 1.02-.2 1.41-.59l7.78-7.78 2.81-2.81c.8-.78.8-2.07 0-2.86zM5.41 20L4 18.59l7.72-7.72 1.47 1.35L5.41 20z\"/>\n",
       "  </svg>\n",
       "      </button>\n",
       "      \n",
       "  <style>\n",
       "    .colab-df-container {\n",
       "      display:flex;\n",
       "      flex-wrap:wrap;\n",
       "      gap: 12px;\n",
       "    }\n",
       "\n",
       "    .colab-df-convert {\n",
       "      background-color: #E8F0FE;\n",
       "      border: none;\n",
       "      border-radius: 50%;\n",
       "      cursor: pointer;\n",
       "      display: none;\n",
       "      fill: #1967D2;\n",
       "      height: 32px;\n",
       "      padding: 0 0 0 0;\n",
       "      width: 32px;\n",
       "    }\n",
       "\n",
       "    .colab-df-convert:hover {\n",
       "      background-color: #E2EBFA;\n",
       "      box-shadow: 0px 1px 2px rgba(60, 64, 67, 0.3), 0px 1px 3px 1px rgba(60, 64, 67, 0.15);\n",
       "      fill: #174EA6;\n",
       "    }\n",
       "\n",
       "    [theme=dark] .colab-df-convert {\n",
       "      background-color: #3B4455;\n",
       "      fill: #D2E3FC;\n",
       "    }\n",
       "\n",
       "    [theme=dark] .colab-df-convert:hover {\n",
       "      background-color: #434B5C;\n",
       "      box-shadow: 0px 1px 3px 1px rgba(0, 0, 0, 0.15);\n",
       "      filter: drop-shadow(0px 1px 2px rgba(0, 0, 0, 0.3));\n",
       "      fill: #FFFFFF;\n",
       "    }\n",
       "  </style>\n",
       "\n",
       "      <script>\n",
       "        const buttonEl =\n",
       "          document.querySelector('#df-6af2042f-3077-4137-b93a-912bec75a3c6 button.colab-df-convert');\n",
       "        buttonEl.style.display =\n",
       "          google.colab.kernel.accessAllowed ? 'block' : 'none';\n",
       "\n",
       "        async function convertToInteractive(key) {\n",
       "          const element = document.querySelector('#df-6af2042f-3077-4137-b93a-912bec75a3c6');\n",
       "          const dataTable =\n",
       "            await google.colab.kernel.invokeFunction('convertToInteractive',\n",
       "                                                     [key], {});\n",
       "          if (!dataTable) return;\n",
       "\n",
       "          const docLinkHtml = 'Like what you see? Visit the ' +\n",
       "            '<a target=\"_blank\" href=https://colab.research.google.com/notebooks/data_table.ipynb>data table notebook</a>'\n",
       "            + ' to learn more about interactive tables.';\n",
       "          element.innerHTML = '';\n",
       "          dataTable['output_type'] = 'display_data';\n",
       "          await google.colab.output.renderOutput(dataTable, element);\n",
       "          const docLink = document.createElement('div');\n",
       "          docLink.innerHTML = docLinkHtml;\n",
       "          element.appendChild(docLink);\n",
       "        }\n",
       "      </script>\n",
       "    </div>\n",
       "  </div>\n",
       "  "
      ],
      "text/plain": [
       "       reviewerID        asin  overall  \\\n",
       "0  A2NIJTYWADLK57  0140503528      4.0   \n",
       "1  A2827D8EEURMP4  0140503528      4.0   \n",
       "2   APB6087F4J09J  0140503528      5.0   \n",
       "3  A2DHERRZIPFU7X  0140503528      5.0   \n",
       "4   A2XCLJRGFANRC  0140503528      5.0   \n",
       "\n",
       "                                                                                                                                                                                                                                                                                                                                                                                                                                                                                                            reviewText  \\\n",
       "0                                                                                                                                                                                                                                                                                                                                                                                                                       kids like story BUT while i really wanted a board book this one is just so small.  wish larger   \n",
       "1                                                                                                                                                                                                                                                                                         Bought this used and it came in great condition, almost like it had never been read. The story isn't as good as the original corduroy but my husband had this version as a child so had to add it to our daughter collection   \n",
       "2                                                                                                                                                                                                                                          Every story and book about Corduroy is Fantastic. This book is great and I bought all the Corduroy books for my 2 boys and now for their total of 5 children. You have to buy a Corduroy bear for everyone who has the books. Love to hold them while the stories are read.   \n",
       "3  I purchased this book for my first grade classroom. I read the book to the students during a math lesson. The first day, I split the students into groups and had them count how many pockets they had all together. They recorded it on a chart and answered questions like: Who had the most? Who had the least? Choose two numbers and compare using <,>,=. The second day we referenced the book and compared pockets of the boys vs the girls. They again answered questions about the numbers. They loved ...   \n",
       "4  Having spent numerous years in an elementary school library, I can say with all honesty that the Corduroy books were great favorites for all the years I was there. A Pocket for Corduroy is a charming addition to anyone's collection. It is a very sweet story about the owner of Corduroy who leaves him in the laundry and has some difficulties retrieving him. Children can relate to that quite well. Getting him back is a good lesson in itself. Sewing the pocket on for him is delightful. It has a ...   \n",
       "\n",
       "                              summary sentiment  \n",
       "0  good story, small size book though  positive  \n",
       "1                                Good  positive  \n",
       "2         Best Books for All Children  positive  \n",
       "3                     Great for Math!  positive  \n",
       "4                       Love Corduroy  positive  "
      ]
     },
     "metadata": {},
     "output_type": "display_data"
    }
   ],
   "source": [
    "sentiment_values = []\n",
    "for i in df_random['enhanced_rating'].values:\n",
    "    if (i >= 4.):\n",
    "        sentiment_values.append('positive')\n",
    "    elif (i < 4. or i > 2.):\n",
    "        sentiment_values.append('neutral')\n",
    "    elif (i <= 2.):\n",
    "        sentiment_values.append('negative')\n",
    "\n",
    "df_random['enhanced_sentiment'] = sentiment_values\n",
    "df.head()"
   ]
  },
  {
   "cell_type": "code",
   "execution_count": null,
   "metadata": {},
   "outputs": [
    {
     "name": "stdout",
     "output_type": "stream",
     "text": [
      "Shape of training data:  (5692,)\n",
      "Shape of testing data:  (2440,)\n",
      "Shape of training labels:  (5692,)\n",
      "Shape of testing labels:  (2440,)\n"
     ]
    }
   ],
   "source": [
    "from sklearn.model_selection import train_test_split\n",
    "x_train, x_test, y_train, y_test = train_test_split(df_random['reviewText'], df_random['enhanced_sentiment'], test_size=0.3, stratify=df_random['sentiment'])\n",
    "\n",
    "print(\"Shape of training data: \", x_train.shape)\n",
    "print(\"Shape of testing data: \", x_test.shape)\n",
    "print(\"Shape of training labels: \", y_train.shape)\n",
    "print(\"Shape of testing labels: \", y_test.shape)\n"
   ]
  },
  {
   "cell_type": "code",
   "execution_count": null,
   "metadata": {},
   "outputs": [
    {
     "data": {
      "text/html": [
       "<style>#sk-container-id-2 {color: black;background-color: white;}#sk-container-id-2 pre{padding: 0;}#sk-container-id-2 div.sk-toggleable {background-color: white;}#sk-container-id-2 label.sk-toggleable__label {cursor: pointer;display: block;width: 100%;margin-bottom: 0;padding: 0.3em;box-sizing: border-box;text-align: center;}#sk-container-id-2 label.sk-toggleable__label-arrow:before {content: \"▸\";float: left;margin-right: 0.25em;color: #696969;}#sk-container-id-2 label.sk-toggleable__label-arrow:hover:before {color: black;}#sk-container-id-2 div.sk-estimator:hover label.sk-toggleable__label-arrow:before {color: black;}#sk-container-id-2 div.sk-toggleable__content {max-height: 0;max-width: 0;overflow: hidden;text-align: left;background-color: #f0f8ff;}#sk-container-id-2 div.sk-toggleable__content pre {margin: 0.2em;color: black;border-radius: 0.25em;background-color: #f0f8ff;}#sk-container-id-2 input.sk-toggleable__control:checked~div.sk-toggleable__content {max-height: 200px;max-width: 100%;overflow: auto;}#sk-container-id-2 input.sk-toggleable__control:checked~label.sk-toggleable__label-arrow:before {content: \"▾\";}#sk-container-id-2 div.sk-estimator input.sk-toggleable__control:checked~label.sk-toggleable__label {background-color: #d4ebff;}#sk-container-id-2 div.sk-label input.sk-toggleable__control:checked~label.sk-toggleable__label {background-color: #d4ebff;}#sk-container-id-2 input.sk-hidden--visually {border: 0;clip: rect(1px 1px 1px 1px);clip: rect(1px, 1px, 1px, 1px);height: 1px;margin: -1px;overflow: hidden;padding: 0;position: absolute;width: 1px;}#sk-container-id-2 div.sk-estimator {font-family: monospace;background-color: #f0f8ff;border: 1px dotted black;border-radius: 0.25em;box-sizing: border-box;margin-bottom: 0.5em;}#sk-container-id-2 div.sk-estimator:hover {background-color: #d4ebff;}#sk-container-id-2 div.sk-parallel-item::after {content: \"\";width: 100%;border-bottom: 1px solid gray;flex-grow: 1;}#sk-container-id-2 div.sk-label:hover label.sk-toggleable__label {background-color: #d4ebff;}#sk-container-id-2 div.sk-serial::before {content: \"\";position: absolute;border-left: 1px solid gray;box-sizing: border-box;top: 0;bottom: 0;left: 50%;z-index: 0;}#sk-container-id-2 div.sk-serial {display: flex;flex-direction: column;align-items: center;background-color: white;padding-right: 0.2em;padding-left: 0.2em;position: relative;}#sk-container-id-2 div.sk-item {position: relative;z-index: 1;}#sk-container-id-2 div.sk-parallel {display: flex;align-items: stretch;justify-content: center;background-color: white;position: relative;}#sk-container-id-2 div.sk-item::before, #sk-container-id-2 div.sk-parallel-item::before {content: \"\";position: absolute;border-left: 1px solid gray;box-sizing: border-box;top: 0;bottom: 0;left: 50%;z-index: -1;}#sk-container-id-2 div.sk-parallel-item {display: flex;flex-direction: column;z-index: 1;position: relative;background-color: white;}#sk-container-id-2 div.sk-parallel-item:first-child::after {align-self: flex-end;width: 50%;}#sk-container-id-2 div.sk-parallel-item:last-child::after {align-self: flex-start;width: 50%;}#sk-container-id-2 div.sk-parallel-item:only-child::after {width: 0;}#sk-container-id-2 div.sk-dashed-wrapped {border: 1px dashed gray;margin: 0 0.4em 0.5em 0.4em;box-sizing: border-box;padding-bottom: 0.4em;background-color: white;}#sk-container-id-2 div.sk-label label {font-family: monospace;font-weight: bold;display: inline-block;line-height: 1.2em;}#sk-container-id-2 div.sk-label-container {text-align: center;}#sk-container-id-2 div.sk-container {/* jupyter's `normalize.less` sets `[hidden] { display: none; }` but bootstrap.min.css set `[hidden] { display: none !important; }` so we also need the `!important` here to be able to override the default hidden behavior on the sphinx rendered scikit-learn.org. See: https://github.com/scikit-learn/scikit-learn/issues/21755 */display: inline-block !important;position: relative;}#sk-container-id-2 div.sk-text-repr-fallback {display: none;}</style><div id=\"sk-container-id-2\" class=\"sk-top-container\"><div class=\"sk-text-repr-fallback\"><pre>Pipeline(steps=[(&#x27;NLP&#x27;,\n",
       "                 TfidfVectorizer(preprocessor=&lt;function preprocess_text at 0x7f491a371d30&gt;)),\n",
       "                (&#x27;classifier&#x27;,\n",
       "                 VotingClassifier(estimators=[(&#x27;lr&#x27;,\n",
       "                                               LogisticRegression(class_weight=&#x27;balanced&#x27;,\n",
       "                                                                  max_iter=1400,\n",
       "                                                                  random_state=0)),\n",
       "                                              (&#x27;svm&#x27;,\n",
       "                                               SVC(probability=True,\n",
       "                                                   random_state=42)),\n",
       "                                              (&#x27;mnb&#x27;, MultinomialNB()),\n",
       "                                              (&#x27;gbc&#x27;,\n",
       "                                               GradientBoostingClassifier(learning_rate=1.0,\n",
       "                                                                          max_depth=22,\n",
       "                                                                          n_estimators=250,\n",
       "                                                                          random_state=56))],\n",
       "                                  voting=&#x27;soft&#x27;))])</pre><b>In a Jupyter environment, please rerun this cell to show the HTML representation or trust the notebook. <br />On GitHub, the HTML representation is unable to render, please try loading this page with nbviewer.org.</b></div><div class=\"sk-container\" hidden><div class=\"sk-item sk-dashed-wrapped\"><div class=\"sk-label-container\"><div class=\"sk-label sk-toggleable\"><input class=\"sk-toggleable__control sk-hidden--visually\" id=\"sk-estimator-id-8\" type=\"checkbox\" ><label for=\"sk-estimator-id-8\" class=\"sk-toggleable__label sk-toggleable__label-arrow\">Pipeline</label><div class=\"sk-toggleable__content\"><pre>Pipeline(steps=[(&#x27;NLP&#x27;,\n",
       "                 TfidfVectorizer(preprocessor=&lt;function preprocess_text at 0x7f491a371d30&gt;)),\n",
       "                (&#x27;classifier&#x27;,\n",
       "                 VotingClassifier(estimators=[(&#x27;lr&#x27;,\n",
       "                                               LogisticRegression(class_weight=&#x27;balanced&#x27;,\n",
       "                                                                  max_iter=1400,\n",
       "                                                                  random_state=0)),\n",
       "                                              (&#x27;svm&#x27;,\n",
       "                                               SVC(probability=True,\n",
       "                                                   random_state=42)),\n",
       "                                              (&#x27;mnb&#x27;, MultinomialNB()),\n",
       "                                              (&#x27;gbc&#x27;,\n",
       "                                               GradientBoostingClassifier(learning_rate=1.0,\n",
       "                                                                          max_depth=22,\n",
       "                                                                          n_estimators=250,\n",
       "                                                                          random_state=56))],\n",
       "                                  voting=&#x27;soft&#x27;))])</pre></div></div></div><div class=\"sk-serial\"><div class=\"sk-item\"><div class=\"sk-estimator sk-toggleable\"><input class=\"sk-toggleable__control sk-hidden--visually\" id=\"sk-estimator-id-9\" type=\"checkbox\" ><label for=\"sk-estimator-id-9\" class=\"sk-toggleable__label sk-toggleable__label-arrow\">TfidfVectorizer</label><div class=\"sk-toggleable__content\"><pre>TfidfVectorizer(preprocessor=&lt;function preprocess_text at 0x7f491a371d30&gt;)</pre></div></div></div><div class=\"sk-item sk-dashed-wrapped\"><div class=\"sk-label-container\"><div class=\"sk-label sk-toggleable\"><input class=\"sk-toggleable__control sk-hidden--visually\" id=\"sk-estimator-id-10\" type=\"checkbox\" ><label for=\"sk-estimator-id-10\" class=\"sk-toggleable__label sk-toggleable__label-arrow\">classifier: VotingClassifier</label><div class=\"sk-toggleable__content\"><pre>VotingClassifier(estimators=[(&#x27;lr&#x27;,\n",
       "                              LogisticRegression(class_weight=&#x27;balanced&#x27;,\n",
       "                                                 max_iter=1400,\n",
       "                                                 random_state=0)),\n",
       "                             (&#x27;svm&#x27;, SVC(probability=True, random_state=42)),\n",
       "                             (&#x27;mnb&#x27;, MultinomialNB()),\n",
       "                             (&#x27;gbc&#x27;,\n",
       "                              GradientBoostingClassifier(learning_rate=1.0,\n",
       "                                                         max_depth=22,\n",
       "                                                         n_estimators=250,\n",
       "                                                         random_state=56))],\n",
       "                 voting=&#x27;soft&#x27;)</pre></div></div></div><div class=\"sk-parallel\"><div class=\"sk-parallel-item\"><div class=\"sk-item\"><div class=\"sk-label-container\"><div class=\"sk-label sk-toggleable\"><label>lr</label></div></div><div class=\"sk-serial\"><div class=\"sk-item\"><div class=\"sk-estimator sk-toggleable\"><input class=\"sk-toggleable__control sk-hidden--visually\" id=\"sk-estimator-id-11\" type=\"checkbox\" ><label for=\"sk-estimator-id-11\" class=\"sk-toggleable__label sk-toggleable__label-arrow\">LogisticRegression</label><div class=\"sk-toggleable__content\"><pre>LogisticRegression(class_weight=&#x27;balanced&#x27;, max_iter=1400, random_state=0)</pre></div></div></div></div></div></div><div class=\"sk-parallel-item\"><div class=\"sk-item\"><div class=\"sk-label-container\"><div class=\"sk-label sk-toggleable\"><label>svm</label></div></div><div class=\"sk-serial\"><div class=\"sk-item\"><div class=\"sk-estimator sk-toggleable\"><input class=\"sk-toggleable__control sk-hidden--visually\" id=\"sk-estimator-id-12\" type=\"checkbox\" ><label for=\"sk-estimator-id-12\" class=\"sk-toggleable__label sk-toggleable__label-arrow\">SVC</label><div class=\"sk-toggleable__content\"><pre>SVC(probability=True, random_state=42)</pre></div></div></div></div></div></div><div class=\"sk-parallel-item\"><div class=\"sk-item\"><div class=\"sk-label-container\"><div class=\"sk-label sk-toggleable\"><label>mnb</label></div></div><div class=\"sk-serial\"><div class=\"sk-item\"><div class=\"sk-estimator sk-toggleable\"><input class=\"sk-toggleable__control sk-hidden--visually\" id=\"sk-estimator-id-13\" type=\"checkbox\" ><label for=\"sk-estimator-id-13\" class=\"sk-toggleable__label sk-toggleable__label-arrow\">MultinomialNB</label><div class=\"sk-toggleable__content\"><pre>MultinomialNB()</pre></div></div></div></div></div></div><div class=\"sk-parallel-item\"><div class=\"sk-item\"><div class=\"sk-label-container\"><div class=\"sk-label sk-toggleable\"><label>gbc</label></div></div><div class=\"sk-serial\"><div class=\"sk-item\"><div class=\"sk-estimator sk-toggleable\"><input class=\"sk-toggleable__control sk-hidden--visually\" id=\"sk-estimator-id-14\" type=\"checkbox\" ><label for=\"sk-estimator-id-14\" class=\"sk-toggleable__label sk-toggleable__label-arrow\">GradientBoostingClassifier</label><div class=\"sk-toggleable__content\"><pre>GradientBoostingClassifier(learning_rate=1.0, max_depth=22, n_estimators=250,\n",
       "                           random_state=56)</pre></div></div></div></div></div></div></div></div></div></div></div></div>"
      ],
      "text/plain": [
       "Pipeline(steps=[('NLP',\n",
       "                 TfidfVectorizer(preprocessor=<function preprocess_text at 0x7f491a371d30>)),\n",
       "                ('classifier',\n",
       "                 VotingClassifier(estimators=[('lr',\n",
       "                                               LogisticRegression(class_weight='balanced',\n",
       "                                                                  max_iter=1400,\n",
       "                                                                  random_state=0)),\n",
       "                                              ('svm',\n",
       "                                               SVC(probability=True,\n",
       "                                                   random_state=42)),\n",
       "                                              ('mnb', MultinomialNB()),\n",
       "                                              ('gbc',\n",
       "                                               GradientBoostingClassifier(learning_rate=1.0,\n",
       "                                                                          max_depth=22,\n",
       "                                                                          n_estimators=250,\n",
       "                                                                          random_state=56))],\n",
       "                                  voting='soft'))])"
      ]
     },
     "metadata": {},
     "output_type": "display_data"
    }
   ],
   "source": [
    "final_pipeline = Pipeline([(\"NLP\", TfidfVectorizer(preprocessor=preprocess_text)),\n",
    "                           ('classifier', voting_clf)])\n",
    "\n",
    "final_pipeline.fit(x_train, y_train)"
   ]
  },
  {
   "cell_type": "code",
   "execution_count": null,
   "metadata": {},
   "outputs": [
    {
     "name": "stdout",
     "output_type": "stream",
     "text": [
      "Model score 0.9780393534785664\n",
      "Test score 0.8036885245901639\n",
      "Classifier ROC curve\n",
      "(array([0.        , 0.16216216, 1.        ]), array([0.        , 0.76948318, 1.        ]), array([2, 1, 0]))\n",
      "[[1023  198]\n",
      " [ 281  938]]\n"
     ]
    }
   ],
   "source": [
    "from sklearn import metrics\n",
    "from sklearn.preprocessing import LabelBinarizer\n",
    "\n",
    "y_pred = final_pipeline.predict(x_test)\n",
    "print(f'Model score {final_pipeline.score(x_train, y_train)}')\n",
    "print(f'Test score {final_pipeline.score(x_test, y_test)}')\n",
    "\n",
    "# convert categorical labels into binary labels\n",
    "lb = LabelBinarizer()\n",
    "y_test_binary = lb.fit_transform(y_test)\n",
    "y_pred_binary = lb.transform(y_pred)\n",
    "\n",
    "# from sklearn.metrics import plot_confusion_matrix, roc_auc_score, plot_roc_curve\n",
    "print('Classifier ROC curve')\n",
    "print(metrics.roc_curve(y_test_binary, y_pred_binary))\n",
    "\n",
    "\n",
    "cf_matrix = metrics.confusion_matrix(y_test, y_pred)\n",
    "print(cf_matrix)"
   ]
  },
  {
   "cell_type": "code",
   "execution_count": null,
   "metadata": {},
   "outputs": [],
   "source": []
  }
 ],
 "metadata": {
  "language_info": {
   "name": "python"
  },
  "orig_nbformat": 4
 },
 "nbformat": 4,
 "nbformat_minor": 2
}
